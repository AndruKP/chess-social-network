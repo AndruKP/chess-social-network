{
  "nbformat": 4,
  "nbformat_minor": 0,
  "metadata": {
    "colab": {
      "provenance": []
    },
    "kernelspec": {
      "name": "python3",
      "display_name": "Python 3"
    },
    "language_info": {
      "name": "python"
    }
  },
  "cells": [
    {
      "cell_type": "code",
      "source": [
        "#run these commands to install graph-tool for colab\n",
        "!pip install -q condacolab\n",
        "import condacolab\n",
        "condacolab.install()\n",
        "!mamba install -q graph-tool"
      ],
      "metadata": {
        "colab": {
          "base_uri": "https://localhost:8080/"
        },
        "id": "2wr-SmEuM0cq",
        "outputId": "f2308c98-e787-4b97-a5c1-ef71c28c4c17"
      },
      "execution_count": 1,
      "outputs": [
        {
          "output_type": "stream",
          "name": "stdout",
          "text": [
            "⏬ Downloading https://github.com/jaimergp/miniforge/releases/download/24.11.2-1_colab/Miniforge3-colab-24.11.2-1_colab-Linux-x86_64.sh...\n",
            "📦 Installing...\n",
            "📌 Adjusting configuration...\n",
            "🩹 Patching environment...\n",
            "⏲ Done in 0:00:18\n",
            "🔁 Restarting kernel...\n",
            "Preparing transaction: ...working... done\n",
            "Verifying transaction: ...working... done\n",
            "Executing transaction: ...working... \n",
            "\n",
            "\n",
            "done\n"
          ]
        }
      ]
    },
    {
      "cell_type": "code",
      "source": [
        "#other imports\n",
        "import graph_tool.all as gt\n",
        "import matplotlib.pyplot as plt\n",
        "import argparse\n",
        "import os\n",
        "import datetime\n",
        "import numpy as np\n",
        "from scipy import stats"
      ],
      "metadata": {
        "id": "11tY0fWNb5w7"
      },
      "execution_count": null,
      "outputs": []
    },
    {
      "cell_type": "code",
      "source": [
        "#load a graphml file and split into four subgraphs based on game type\n",
        "graphml_file = 'converted_13wtl.graphml'\n",
        "gX = gt.load_graph(graphml_file)\n",
        "gB = gt.GraphView(gX, efilt=gX.edge_properties['game type'].t(lambda a : a=='B',value_type=\"bool\"))\n",
        "gB = gt.GraphView(gB, vfilt=gB.degree_property_map('total').t(lambda a : a>0,value_type=\"bool\"))\n",
        "gC = gt.GraphView(gX, efilt=gX.edge_properties['game type'].t(lambda a : a=='C',value_type=\"bool\"))\n",
        "gC = gt.GraphView(gC, vfilt=gC.degree_property_map('total').t(lambda a : a>0,value_type=\"bool\"))\n",
        "gN = gt.GraphView(gX, efilt=gX.edge_properties['game type'].t(lambda a : a=='N',value_type=\"bool\"))\n",
        "gN = gt.GraphView(gN, vfilt=gN.degree_property_map('total').t(lambda a : a>0,value_type=\"bool\"))\n",
        "gZ = gt.GraphView(gX, efilt=gX.edge_properties['game type'].t(lambda a : a=='Z',value_type=\"bool\"))\n",
        "gZ = gt.GraphView(gZ, vfilt=gZ.degree_property_map('total').t(lambda a : a>0,value_type=\"bool\"))\n",
        "display(gX,gB,gC,gN,gZ)\n",
        "for g,name in [(gX,''),(gB,' - B'),(gC,' - C'),(gN,' - N'),(gZ,' - Z')]:\n",
        "  #display minimum and maximum degree for each graph - min should be positive (every subgraph had the isoalted vertices removed)\n",
        "  display(min(g.degree_property_map(\"total\")),max(g.degree_property_map(\"total\")))"
      ],
      "metadata": {
        "colab": {
          "base_uri": "https://localhost:8080/",
          "height": 416
        },
        "id": "x7MKZdQTcekM",
        "outputId": "629ec74f-f5ce-4e41-c539-586a48bea56d"
      },
      "execution_count": 9,
      "outputs": [
        {
          "output_type": "display_data",
          "data": {
            "text/plain": [
              "<Graph object, directed, with 92506 vertices and 4770357 edges, 1 internal vertex property, 3 internal edge properties, at 0x7d0c2c792e50>"
            ]
          },
          "metadata": {}
        },
        {
          "output_type": "display_data",
          "data": {
            "text/plain": [
              "<GraphView object, directed, with 31341 vertices and 1622629 edges, 1 internal vertex property, 3 internal edge properties, edges filtered by <EdgePropertyMap object with value type 'bool', for Graph 0x7d0c2669e190, at 0x7d0c28035550>, vertices filtered by <VertexPropertyMap object with value type 'bool', for Graph 0x7d0c2669e190, at 0x7d0c2c4c0410>, at 0x7d0c2669e190>"
            ]
          },
          "metadata": {}
        },
        {
          "output_type": "display_data",
          "data": {
            "text/plain": [
              "<GraphView object, directed, with 61700 vertices and 1230129 edges, 1 internal vertex property, 3 internal edge properties, edges filtered by <EdgePropertyMap object with value type 'bool', for Graph 0x7d0c2661d850, at 0x7d0c26797690>, vertices filtered by <VertexPropertyMap object with value type 'bool', for Graph 0x7d0c2661d850, at 0x7d0c2fea0a50>, at 0x7d0c2661d850>"
            ]
          },
          "metadata": {}
        },
        {
          "output_type": "display_data",
          "data": {
            "text/plain": [
              "<GraphView object, directed, with 8413 vertices and 20924 edges, 1 internal vertex property, 3 internal edge properties, edges filtered by <EdgePropertyMap object with value type 'bool', for Graph 0x7d0c2710dbd0, at 0x7d0c26626290>, vertices filtered by <VertexPropertyMap object with value type 'bool', for Graph 0x7d0c2710dbd0, at 0x7d0c31f2d3d0>, at 0x7d0c2710dbd0>"
            ]
          },
          "metadata": {}
        },
        {
          "output_type": "display_data",
          "data": {
            "text/plain": [
              "<GraphView object, directed, with 56523 vertices and 1896675 edges, 1 internal vertex property, 3 internal edge properties, edges filtered by <EdgePropertyMap object with value type 'bool', for Graph 0x7d0c2c4cba10, at 0x7d0c28419990>, vertices filtered by <VertexPropertyMap object with value type 'bool', for Graph 0x7d0c2c4cba10, at 0x7d0c27143950>, at 0x7d0c2c4cba10>"
            ]
          },
          "metadata": {}
        },
        {
          "output_type": "display_data",
          "data": {
            "text/plain": [
              "1"
            ]
          },
          "metadata": {}
        },
        {
          "output_type": "display_data",
          "data": {
            "text/plain": [
              "8243"
            ]
          },
          "metadata": {}
        },
        {
          "output_type": "display_data",
          "data": {
            "text/plain": [
              "1"
            ]
          },
          "metadata": {}
        },
        {
          "output_type": "display_data",
          "data": {
            "text/plain": [
              "8232"
            ]
          },
          "metadata": {}
        },
        {
          "output_type": "display_data",
          "data": {
            "text/plain": [
              "1"
            ]
          },
          "metadata": {}
        },
        {
          "output_type": "display_data",
          "data": {
            "text/plain": [
              "1530"
            ]
          },
          "metadata": {}
        },
        {
          "output_type": "display_data",
          "data": {
            "text/plain": [
              "1"
            ]
          },
          "metadata": {}
        },
        {
          "output_type": "display_data",
          "data": {
            "text/plain": [
              "302"
            ]
          },
          "metadata": {}
        },
        {
          "output_type": "display_data",
          "data": {
            "text/plain": [
              "1"
            ]
          },
          "metadata": {}
        },
        {
          "output_type": "display_data",
          "data": {
            "text/plain": [
              "3099"
            ]
          },
          "metadata": {}
        }
      ]
    },
    {
      "cell_type": "code",
      "execution_count": 10,
      "metadata": {
        "id": "ckS1sFiNO1Zq",
        "colab": {
          "base_uri": "https://localhost:8080/",
          "height": 729
        },
        "outputId": "16be5fc2-048a-4dcc-e422-07cde4f0c49e"
      },
      "outputs": [
        {
          "output_type": "stream",
          "name": "stdout",
          "text": [
            "Statistics log created successfully.\n",
            "Output file: result_16wtlall games.txt\n"
          ]
        },
        {
          "output_type": "display_data",
          "data": {
            "text/plain": [
              "'DEGREES TEST'"
            ],
            "application/vnd.google.colaboratory.intrinsic+json": {
              "type": "string"
            }
          },
          "metadata": {}
        },
        {
          "output_type": "display_data",
          "data": {
            "text/plain": [
              "KstestResult(statistic=np.float64(0.6877633878879404), pvalue=np.float64(0.0), statistic_location=np.int32(79), statistic_sign=np.int8(1))"
            ]
          },
          "metadata": {}
        },
        {
          "output_type": "display_data",
          "data": {
            "text/plain": [
              "'INDEGREES TEST'"
            ],
            "application/vnd.google.colaboratory.intrinsic+json": {
              "type": "string"
            }
          },
          "metadata": {}
        },
        {
          "output_type": "display_data",
          "data": {
            "text/plain": [
              "KstestResult(statistic=np.float64(0.669070347415132), pvalue=np.float64(0.0), statistic_location=np.int32(35), statistic_sign=np.int8(1))"
            ]
          },
          "metadata": {}
        },
        {
          "output_type": "display_data",
          "data": {
            "text/plain": [
              "'OUTDEGREES TEST'"
            ],
            "application/vnd.google.colaboratory.intrinsic+json": {
              "type": "string"
            }
          },
          "metadata": {}
        },
        {
          "output_type": "display_data",
          "data": {
            "text/plain": [
              "KstestResult(statistic=np.float64(0.6752753503338617), pvalue=np.float64(0.0), statistic_location=np.int32(35), statistic_sign=np.int8(1))"
            ]
          },
          "metadata": {}
        },
        {
          "output_type": "stream",
          "name": "stdout",
          "text": [
            "Statistics log created successfully.\n",
            "Output file: result_16wtlbullet games.txt\n"
          ]
        },
        {
          "output_type": "display_data",
          "data": {
            "text/plain": [
              "'DEGREES TEST'"
            ],
            "application/vnd.google.colaboratory.intrinsic+json": {
              "type": "string"
            }
          },
          "metadata": {}
        },
        {
          "output_type": "display_data",
          "data": {
            "text/plain": [
              "KstestResult(statistic=np.float64(0.9221767065033839), pvalue=np.float64(0.0), statistic_location=np.int32(73), statistic_sign=np.int8(1))"
            ]
          },
          "metadata": {}
        },
        {
          "output_type": "display_data",
          "data": {
            "text/plain": [
              "'INDEGREES TEST'"
            ],
            "application/vnd.google.colaboratory.intrinsic+json": {
              "type": "string"
            }
          },
          "metadata": {}
        },
        {
          "output_type": "display_data",
          "data": {
            "text/plain": [
              "KstestResult(statistic=np.float64(0.9148784722155733), pvalue=np.float64(0.0), statistic_location=np.int32(32), statistic_sign=np.int8(1))"
            ]
          },
          "metadata": {}
        },
        {
          "output_type": "display_data",
          "data": {
            "text/plain": [
              "'OUTDEGREES TEST'"
            ],
            "application/vnd.google.colaboratory.intrinsic+json": {
              "type": "string"
            }
          },
          "metadata": {}
        },
        {
          "output_type": "display_data",
          "data": {
            "text/plain": [
              "KstestResult(statistic=np.float64(0.9201429955978403), pvalue=np.float64(0.0), statistic_location=np.int32(32), statistic_sign=np.int8(1))"
            ]
          },
          "metadata": {}
        },
        {
          "output_type": "stream",
          "name": "stdout",
          "text": [
            "Statistics log created successfully.\n",
            "Output file: result_16wtlclassical games.txt\n"
          ]
        },
        {
          "output_type": "display_data",
          "data": {
            "text/plain": [
              "'DEGREES TEST'"
            ],
            "application/vnd.google.colaboratory.intrinsic+json": {
              "type": "string"
            }
          },
          "metadata": {}
        },
        {
          "output_type": "display_data",
          "data": {
            "text/plain": [
              "KstestResult(statistic=np.float64(0.7705676929104615), pvalue=np.float64(0.0), statistic_location=np.int32(25), statistic_sign=np.int8(1))"
            ]
          },
          "metadata": {}
        },
        {
          "output_type": "display_data",
          "data": {
            "text/plain": [
              "'INDEGREES TEST'"
            ],
            "application/vnd.google.colaboratory.intrinsic+json": {
              "type": "string"
            }
          },
          "metadata": {}
        },
        {
          "output_type": "display_data",
          "data": {
            "text/plain": [
              "KstestResult(statistic=np.float64(0.7492356700501964), pvalue=np.float64(0.0), statistic_location=np.int32(11), statistic_sign=np.int8(1))"
            ]
          },
          "metadata": {}
        },
        {
          "output_type": "display_data",
          "data": {
            "text/plain": [
              "'OUTDEGREES TEST'"
            ],
            "application/vnd.google.colaboratory.intrinsic+json": {
              "type": "string"
            }
          },
          "metadata": {}
        },
        {
          "output_type": "display_data",
          "data": {
            "text/plain": [
              "KstestResult(statistic=np.float64(0.7492103379582447), pvalue=np.float64(0.0), statistic_location=np.int32(10), statistic_sign=np.int8(1))"
            ]
          },
          "metadata": {}
        },
        {
          "output_type": "stream",
          "name": "stdout",
          "text": [
            "Statistics log created successfully.\n",
            "Output file: result_16wtlcorrespondence games.txt\n"
          ]
        },
        {
          "output_type": "display_data",
          "data": {
            "text/plain": [
              "'DEGREES TEST'"
            ],
            "application/vnd.google.colaboratory.intrinsic+json": {
              "type": "string"
            }
          },
          "metadata": {}
        },
        {
          "output_type": "display_data",
          "data": {
            "text/plain": [
              "KstestResult(statistic=np.float64(0.9068043794760153), pvalue=np.float64(0.0), statistic_location=np.int32(1), statistic_sign=np.int8(1))"
            ]
          },
          "metadata": {}
        },
        {
          "output_type": "display_data",
          "data": {
            "text/plain": [
              "'INDEGREES TEST'"
            ],
            "application/vnd.google.colaboratory.intrinsic+json": {
              "type": "string"
            }
          },
          "metadata": {}
        },
        {
          "output_type": "display_data",
          "data": {
            "text/plain": [
              "KstestResult(statistic=np.float64(0.845284735702729), pvalue=np.float64(0.0), statistic_location=np.int32(0), statistic_sign=np.int8(1))"
            ]
          },
          "metadata": {}
        },
        {
          "output_type": "display_data",
          "data": {
            "text/plain": [
              "'OUTDEGREES TEST'"
            ],
            "application/vnd.google.colaboratory.intrinsic+json": {
              "type": "string"
            }
          },
          "metadata": {}
        },
        {
          "output_type": "display_data",
          "data": {
            "text/plain": [
              "KstestResult(statistic=np.float64(0.8642240477473531), pvalue=np.float64(0.0), statistic_location=np.int32(0), statistic_sign=np.int8(1))"
            ]
          },
          "metadata": {}
        },
        {
          "output_type": "stream",
          "name": "stdout",
          "text": [
            "Statistics log created successfully.\n",
            "Output file: result_16wtlblitz games.txt\n"
          ]
        },
        {
          "output_type": "display_data",
          "data": {
            "text/plain": [
              "'DEGREES TEST'"
            ],
            "application/vnd.google.colaboratory.intrinsic+json": {
              "type": "string"
            }
          },
          "metadata": {}
        },
        {
          "output_type": "display_data",
          "data": {
            "text/plain": [
              "KstestResult(statistic=np.float64(0.8086818058688553), pvalue=np.float64(0.0), statistic_location=np.int32(46), statistic_sign=np.int8(1))"
            ]
          },
          "metadata": {}
        },
        {
          "output_type": "display_data",
          "data": {
            "text/plain": [
              "'INDEGREES TEST'"
            ],
            "application/vnd.google.colaboratory.intrinsic+json": {
              "type": "string"
            }
          },
          "metadata": {}
        },
        {
          "output_type": "display_data",
          "data": {
            "text/plain": [
              "KstestResult(statistic=np.float64(0.7927867111818994), pvalue=np.float64(0.0), statistic_location=np.int32(20), statistic_sign=np.int8(1))"
            ]
          },
          "metadata": {}
        },
        {
          "output_type": "display_data",
          "data": {
            "text/plain": [
              "'OUTDEGREES TEST'"
            ],
            "application/vnd.google.colaboratory.intrinsic+json": {
              "type": "string"
            }
          },
          "metadata": {}
        },
        {
          "output_type": "display_data",
          "data": {
            "text/plain": [
              "KstestResult(statistic=np.float64(0.7967324011911961), pvalue=np.float64(0.0), statistic_location=np.int32(20), statistic_sign=np.int8(1))"
            ]
          },
          "metadata": {}
        }
      ],
      "source": [
        "#run for the original graph and every subgraph\n",
        "for g,gametitle in [(gX,'all games'),(gB,'bullet games'),(gC,'classical games'),(gN,'correspondence games'),(gZ,'blitz games')]:\n",
        "\n",
        "  #set the target directory here\n",
        "  output_directory = 'result_13wtl_'+gametitle\n",
        "\n",
        "  if not os.path.exists(output_directory):\n",
        "      os.makedirs(output_directory)\n",
        "\n",
        "  degrees = g.degree_property_map(\"total\")\n",
        "  min_degree = min(degrees)\n",
        "  max_degree = max(degrees)\n",
        "\n",
        "  indegree = g.degree_property_map(\"in\")\n",
        "  min_indegree = min(indegree)\n",
        "  max_indegree = max(indegree)\n",
        "\n",
        "  outdegree = g.degree_property_map(\"out\")\n",
        "  min_outdegree = min(outdegree)\n",
        "  max_outdegree = max(outdegree)\n",
        "\n",
        "  mean_degree = 2 * g.num_edges() / g.num_vertices()\n",
        "  mean_indegree = g.num_edges() / g.num_vertices()\n",
        "  density = mean_degree / (g.num_vertices() - 1)\n",
        "\n",
        "  global_clustering_coefficient = gt.global_clustering(g)\n",
        "  reciprocity = gt.edge_reciprocity(g)\n",
        "\n",
        "  with open(f'{output_directory}/log.txt', 'w') as f:\n",
        "      print(f'Graph located at: {graphml_file}',file=f)\n",
        "      print(f'starting time: {datetime.time()}',file=f)\n",
        "      print('==========================',file=f)\n",
        "      print(f'Number of vertices: {g.num_vertices()}', file=f)\n",
        "      print(f'Number of edges: {g.num_edges()}', file=f)\n",
        "      print(f'Min degree: {min_degree}', file=f)\n",
        "      print(f'Max degree: {max_degree}', file=f)\n",
        "      print(f'Mean degree: {mean_degree}', file=f)\n",
        "      print(f'Min indegree: {min_indegree}', file=f)\n",
        "      print(f'Max indegree: {max_indegree}', file=f)\n",
        "      print(f'Min outdegree: {min_outdegree}', file=f)\n",
        "      print(f'Max outdegree: {max_outdegree}', file=f)\n",
        "      print(f'Mean indegree = Mean outdegree: {mean_indegree}', file=f)\n",
        "      print(f'Density: {density}', file=f)\n",
        "      print(f'Global clustering coefficient: {global_clustering_coefficient}', file=f)\n",
        "      print(f'Reciprocity: {reciprocity}', file=f)\n",
        "      print('==========================', file=f)\n",
        "      print(f'ending time: {datetime.time()}',file=f)\n",
        "\n",
        "      print('Statistics log created successfully.')\n",
        "      print(f'Output file: {output_directory}.txt')\n",
        "\n",
        "  edge_chance = g.num_edges()/(g.num_vertices()*(g.num_vertices()-1))\n",
        "\n",
        "  # The following code is for plotting the degree distribution of the graph\n",
        "  degree_distribution = g.degree_property_map(\"total\")\n",
        "  fig = plt.figure(figsize=(10, 6))\n",
        "  plt.hist(degree_distribution.a, bins=50, color='blue', alpha=0.7,density=True)\n",
        "  x = np.array(range(min(degree_distribution.a),max(degree_distribution.a)+1))\n",
        "  plt.plot(x, stats.binom(2*(g.num_vertices()-1),edge_chance).pmf(x), 'r-', label='Expected degree density for Erdős–Rényi random graph')\n",
        "  plt.title(f'Degree Distribution ({gametitle})')\n",
        "  plt.xlabel('Degree')\n",
        "  plt.ylabel('Frequency')\n",
        "  plt.grid()\n",
        "  #plt.yscale('log')\n",
        "  fig.legend()\n",
        "  fig.savefig(f'{output_directory}/degree_distribution {gametitle}.png')\n",
        "  plt.close()\n",
        "  display(\"DEGREES TEST\")\n",
        "  display(stats.kstest(degree_distribution.a, \"binom\", args=(2*(g.num_vertices()-1),edge_chance)))\n",
        "  # The following code is for plotting the indegree distribution of the graph\n",
        "  indegree_distribution = g.degree_property_map(\"in\")\n",
        "  fig = plt.figure(figsize=(10, 6))\n",
        "  plt.hist(indegree_distribution.a, bins=50, color='green', alpha=0.7,density=True)\n",
        "  x = np.array(range(min(indegree_distribution.a),max(indegree_distribution.a)+1))\n",
        "  plt.plot(x, stats.binom(g.num_vertices()-1,edge_chance).pmf(x), 'r-', label='Expected indegree density for Erdős–Rényi random graph')\n",
        "  plt.title(f'Indegree Distribution ({gametitle})')\n",
        "  plt.xlabel('Indegree')\n",
        "  plt.ylabel('Frequency')\n",
        "  plt.grid()\n",
        "  #plt.yscale('log')\n",
        "  fig.legend()\n",
        "  plt.savefig(f'{output_directory}/indegree_distribution {gametitle}.png')\n",
        "  plt.close()\n",
        "  display(\"INDEGREES TEST\")\n",
        "  display(stats.kstest(indegree_distribution.a, \"binom\", args=(g.num_vertices()-1,edge_chance)))\n",
        "  # The following code is for plotting the outdegree distribution of the graph\n",
        "  outdegree_distribution = g.degree_property_map(\"out\")\n",
        "  fig = plt.figure(figsize=(10, 6))\n",
        "  plt.hist(outdegree_distribution.a, bins=50, color='red', alpha=0.7,density=True)\n",
        "  x = np.array(range(min(outdegree_distribution.a),max(outdegree_distribution.a)+1))\n",
        "  plt.plot(x, stats.binom(g.num_vertices()-1,edge_chance).pmf(x), 'r-', label='Expected outdegree density for Erdős–Rényi random graph')\n",
        "  plt.title(f'Outdegree Distribution ({gametitle})')\n",
        "  plt.xlabel('Outdegree')\n",
        "  plt.ylabel('Frequency')\n",
        "  plt.grid()\n",
        "  #plt.yscale('log')\n",
        "  fig.legend()\n",
        "  plt.savefig(f'{output_directory}/outdegree_distribution {gametitle}.png')\n",
        "  plt.close()\n",
        "  display(\"OUTDEGREES TEST\")\n",
        "  display(stats.kstest(outdegree_distribution.a, \"binom\", args=(g.num_vertices()-1,edge_chance)))\n",
        "\n",
        "\n",
        "  #reenable the rest of statistics if we know the expected distribution in a random graph\n",
        "\n",
        "  continue\n",
        "\n",
        "\n",
        "\n",
        "  # The following code is for plotting the clustering coefficient distribution of the graph\n",
        "  clustering_coefficient_distribution = gt.local_clustering(g)\n",
        "  plt.figure(figsize=(10, 6))\n",
        "  plt.hist(clustering_coefficient_distribution.a, bins=50, color='purple', alpha=0.7)\n",
        "  plt.title('Clustering Coefficient Distribution')\n",
        "  plt.xlabel('Clustering Coefficient')\n",
        "  plt.ylabel('Frequency')\n",
        "  plt.grid()\n",
        "  plt.yscale('log')\n",
        "  plt.savefig(f'{output_directory}/clustering_coefficient_distribution.png')\n",
        "  plt.close()\n",
        "  # # The following code is for plotting the reciprocity distribution of the graph\n",
        "  # reciprocity_distribution =\n",
        "  # plt.figure(figsize=(10, 6))\n",
        "  # plt.hist(reciprocity_distribution.a, bins=50, color='orange', alpha=0.7)\n",
        "  # plt.title('Reciprocity Distribution')\n",
        "  # plt.xlabel('Reciprocity')\n",
        "  # plt.ylabel('Frequency')\n",
        "  # plt.grid()\n",
        "  # plt.savefig(f'{output_directory}/reciprocity_distribution.png')\n",
        "  # plt.close()\n",
        "  # The following code is for plotting the betweenness centrality distribution of the graph\n",
        "  betweenness_centrality = gt.betweenness(g)\n",
        "  vertex_betweenness = betweenness_centrality[0]\n",
        "  edge_betweenness = betweenness_centrality[1]\n",
        "  plt.figure(figsize=(10, 6))\n",
        "  plt.hist(vertex_betweenness.a, bins=50, color='cyan', alpha=0.7)\n",
        "  plt.title('Vertex Betweenness Centrality Distribution')\n",
        "  plt.xlabel('Betweenness Centrality')\n",
        "  plt.ylabel('Frequency')\n",
        "  plt.grid()\n",
        "  plt.yscale('log')\n",
        "  plt.savefig(f'{output_directory}/vertex_betweenness_centrality_distribution.png')\n",
        "  plt.close()\n",
        "\n",
        "  plt.figure(figsize=(10, 6))\n",
        "  plt.hist(edge_betweenness.a, bins=50, color='cyan', alpha=0.7)\n",
        "  plt.title('Edge Betweenness Centrality Distribution')\n",
        "  plt.xlabel('Betweenness Centrality')\n",
        "  plt.ylabel('Frequency')\n",
        "  plt.grid()\n",
        "  plt.yscale('log')\n",
        "  plt.savefig(f'{output_directory}/edge_betweenness_centrality_distribution.png')\n",
        "  plt.close()\n",
        "  # The following code is for plotting the closeness centrality distribution of the graph\n",
        "  closeness_centrality = gt.closeness(g)\n",
        "  plt.figure(figsize=(10, 6))\n",
        "  plt.hist(closeness_centrality.a, bins=50, color='magenta', alpha=0.7)\n",
        "  plt.title('Closeness Centrality Distribution')\n",
        "  plt.xlabel('Closeness Centrality')\n",
        "  plt.ylabel('Frequency')\n",
        "  plt.grid()\n",
        "  plt.savefig(f'{output_directory}/closeness_centrality_distribution.png')\n",
        "  plt.close()\n",
        "  # The following code is for plotting the eigenvector centrality distribution of the graph\n",
        "  eigenvector_centrality = gt.eigenvector(g)[1]\n",
        "  plt.figure(figsize=(10, 6))\n",
        "  plt.hist(eigenvector_centrality.a, bins=50, color='brown', alpha=0.7)\n",
        "  plt.title('Eigenvector Centrality Distribution')\n",
        "  plt.xlabel('Eigenvector Centrality')\n",
        "  plt.ylabel('Frequency')\n",
        "  plt.grid()\n",
        "  plt.yscale('log')\n",
        "  plt.savefig(f'{output_directory}/eigenvector_centrality_distribution.png')\n",
        "  plt.close()\n",
        "  # The following code is for plotting the PageRank centrality distribution of the graph\n",
        "  pagerank_centrality = gt.pagerank(g)\n",
        "  plt.figure(figsize=(10, 6))\n",
        "  plt.hist(pagerank_centrality.a, bins=50, color='pink', alpha=0.7)\n",
        "  plt.title('PageRank Centrality Distribution')\n",
        "  plt.xlabel('PageRank Centrality')\n",
        "  plt.ylabel('Frequency')\n",
        "  plt.grid()\n",
        "  plt.yscale('log')\n",
        "  plt.savefig(f'{output_directory}/pagerank_centrality_distribution.png')\n",
        "  plt.close()\n",
        "\n"
      ]
    }
  ]
}