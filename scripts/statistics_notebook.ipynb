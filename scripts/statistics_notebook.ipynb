{
  "cells": [
    {
      "cell_type": "code",
      "execution_count": 1,
      "metadata": {
        "colab": {
          "base_uri": "https://localhost:8080/"
        },
        "id": "2wr-SmEuM0cq",
        "outputId": "15954298-8912-4643-f4f6-a13be4264024"
      },
      "outputs": [
        {
          "output_type": "stream",
          "name": "stdout",
          "text": [
            "✨🍰✨ Everything looks OK!\n"
          ]
        }
      ],
      "source": [
        "#run these commands to install graph-tool for colab\n",
        "!pip install -q condacolab\n",
        "import condacolab\n",
        "condacolab.install()\n",
        "!mamba install -q graph-tool"
      ]
    },
    {
      "cell_type": "code",
      "execution_count": 2,
      "metadata": {
        "id": "11tY0fWNb5w7"
      },
      "outputs": [],
      "source": [
        "#other imports\n",
        "import graph_tool.all as gt\n",
        "import matplotlib.pyplot as plt\n",
        "import argparse\n",
        "import os\n",
        "import datetime\n",
        "import numpy as np\n",
        "from scipy import stats"
      ]
    },
    {
      "cell_type": "code",
      "execution_count": 3,
      "metadata": {
        "colab": {
          "base_uri": "https://localhost:8080/",
          "height": 572
        },
        "id": "x7MKZdQTcekM",
        "outputId": "c711696d-51fd-4fec-d1b7-9b444ee6acef"
      },
      "outputs": [
        {
          "output_type": "display_data",
          "data": {
            "text/plain": [
              "<Graph object, directed, with 4922 vertices and 121332 edges, 1 internal vertex property, 3 internal edge properties, at 0x7af1636a21d0>"
            ]
          },
          "metadata": {}
        },
        {
          "output_type": "display_data",
          "data": {
            "text/plain": [
              "<GraphView object, directed, with 1858 vertices and 32986 edges, 1 internal vertex property, 3 internal edge properties, edges filtered by <EdgePropertyMap object with value type 'bool', for Graph 0x7af163643c90, at 0x7af1636c3d10>, vertices filtered by <VertexPropertyMap object with value type 'bool', for Graph 0x7af163643c90, at 0x7af1636c3c10>, at 0x7af163643c90>"
            ]
          },
          "metadata": {}
        },
        {
          "output_type": "display_data",
          "data": {
            "text/plain": [
              "<GraphView object, directed, with 3526 vertices and 41796 edges, 1 internal vertex property, 3 internal edge properties, edges filtered by <EdgePropertyMap object with value type 'bool', for Graph 0x7af1636c3e50, at 0x7af1636c2650>, vertices filtered by <VertexPropertyMap object with value type 'bool', for Graph 0x7af1636c3e50, at 0x7af1636b00d0>, at 0x7af1636c3e50>"
            ]
          },
          "metadata": {}
        },
        {
          "output_type": "display_data",
          "data": {
            "text/plain": [
              "<GraphView object, directed, with 113 vertices and 266 edges, 1 internal vertex property, 3 internal edge properties, edges filtered by <EdgePropertyMap object with value type 'bool', for Graph 0x7af1666ae810, at 0x7af1636b06d0>, vertices filtered by <VertexPropertyMap object with value type 'bool', for Graph 0x7af1666ae810, at 0x7af1636b0750>, at 0x7af1666ae810>"
            ]
          },
          "metadata": {}
        },
        {
          "output_type": "display_data",
          "data": {
            "text/plain": [
              "<GraphView object, directed, with 3314 vertices and 46284 edges, 1 internal vertex property, 3 internal edge properties, edges filtered by <EdgePropertyMap object with value type 'bool', for Graph 0x7af1667534d0, at 0x7af1636b0cd0>, vertices filtered by <VertexPropertyMap object with value type 'bool', for Graph 0x7af1667534d0, at 0x7af1636b0290>, at 0x7af1667534d0>"
            ]
          },
          "metadata": {}
        },
        {
          "output_type": "display_data",
          "data": {
            "text/plain": [
              "1"
            ]
          },
          "metadata": {}
        },
        {
          "output_type": "display_data",
          "data": {
            "text/plain": [
              "1729"
            ]
          },
          "metadata": {}
        },
        {
          "output_type": "display_data",
          "data": {
            "text/plain": [
              "1"
            ]
          },
          "metadata": {}
        },
        {
          "output_type": "display_data",
          "data": {
            "text/plain": [
              "1728"
            ]
          },
          "metadata": {}
        },
        {
          "output_type": "display_data",
          "data": {
            "text/plain": [
              "1"
            ]
          },
          "metadata": {}
        },
        {
          "output_type": "display_data",
          "data": {
            "text/plain": [
              "805"
            ]
          },
          "metadata": {}
        },
        {
          "output_type": "display_data",
          "data": {
            "text/plain": [
              "1"
            ]
          },
          "metadata": {}
        },
        {
          "output_type": "display_data",
          "data": {
            "text/plain": [
              "86"
            ]
          },
          "metadata": {}
        },
        {
          "output_type": "display_data",
          "data": {
            "text/plain": [
              "1"
            ]
          },
          "metadata": {}
        },
        {
          "output_type": "display_data",
          "data": {
            "text/plain": [
              "1582"
            ]
          },
          "metadata": {}
        }
      ],
      "source": [
        "#load a graphml file and split into four subgraphs based on game type\n",
        "graphml_file = 'converted_13wtl.graphml'\n",
        "gX = gt.load_graph(graphml_file)\n",
        "gB = gt.GraphView(gX, efilt=gX.edge_properties['game type'].t(lambda a : a=='B',value_type=\"bool\"))\n",
        "gB = gt.GraphView(gB, vfilt=gB.degree_property_map('total').t(lambda a : a>0,value_type=\"bool\"))\n",
        "gC = gt.GraphView(gX, efilt=gX.edge_properties['game type'].t(lambda a : a=='C',value_type=\"bool\"))\n",
        "gC = gt.GraphView(gC, vfilt=gC.degree_property_map('total').t(lambda a : a>0,value_type=\"bool\"))\n",
        "gN = gt.GraphView(gX, efilt=gX.edge_properties['game type'].t(lambda a : a=='N',value_type=\"bool\"))\n",
        "gN = gt.GraphView(gN, vfilt=gN.degree_property_map('total').t(lambda a : a>0,value_type=\"bool\"))\n",
        "gZ = gt.GraphView(gX, efilt=gX.edge_properties['game type'].t(lambda a : a=='Z',value_type=\"bool\"))\n",
        "gZ = gt.GraphView(gZ, vfilt=gZ.degree_property_map('total').t(lambda a : a>0,value_type=\"bool\"))\n",
        "display(gX,gB,gC,gN,gZ)\n",
        "for g,name in [(gX,''),(gB,' - B'),(gC,' - C'),(gN,' - N'),(gZ,' - Z')]:\n",
        "  #display minimum and maximum degree for each graph - min should be positive (every subgraph had the isoalted vertices removed)\n",
        "  display(min(g.degree_property_map(\"total\")),max(g.degree_property_map(\"total\")))"
      ]
    },
    {
      "cell_type": "code",
      "execution_count": 4,
      "metadata": {
        "colab": {
          "base_uri": "https://localhost:8080/",
          "height": 989
        },
        "id": "ckS1sFiNO1Zq",
        "outputId": "5ab2f7a2-3293-41cc-cd75-5f50c2a74a14"
      },
      "outputs": [
        {
          "output_type": "stream",
          "name": "stdout",
          "text": [
            "Statistics log created successfully.\n",
            "Output file: result_13wtl_all games.txt\n"
          ]
        },
        {
          "output_type": "display_data",
          "data": {
            "text/plain": [
              "'DEGREES TEST'"
            ],
            "application/vnd.google.colaboratory.intrinsic+json": {
              "type": "string"
            }
          },
          "metadata": {}
        },
        {
          "output_type": "display_data",
          "data": {
            "text/plain": [
              "KstestResult(statistic=np.float64(0.7123707219688968), pvalue=np.float64(0.0), statistic_location=np.int32(33), statistic_sign=np.int8(1))"
            ]
          },
          "metadata": {}
        },
        {
          "output_type": "display_data",
          "data": {
            "text/plain": [
              "'INDEGREES TEST'"
            ],
            "application/vnd.google.colaboratory.intrinsic+json": {
              "type": "string"
            }
          },
          "metadata": {}
        },
        {
          "output_type": "display_data",
          "data": {
            "text/plain": [
              "KstestResult(statistic=np.float64(0.6828214992298641), pvalue=np.float64(0.0), statistic_location=np.int32(14), statistic_sign=np.int8(1))"
            ]
          },
          "metadata": {}
        },
        {
          "output_type": "display_data",
          "data": {
            "text/plain": [
              "'OUTDEGREES TEST'"
            ],
            "application/vnd.google.colaboratory.intrinsic+json": {
              "type": "string"
            }
          },
          "metadata": {}
        },
        {
          "output_type": "display_data",
          "data": {
            "text/plain": [
              "KstestResult(statistic=np.float64(0.6909482769624931), pvalue=np.float64(0.0), statistic_location=np.int32(14), statistic_sign=np.int8(1))"
            ]
          },
          "metadata": {}
        },
        {
          "output_type": "stream",
          "name": "stdout",
          "text": [
            "Statistics log created successfully.\n",
            "Output file: result_13wtl_bullet games.txt\n"
          ]
        },
        {
          "output_type": "display_data",
          "data": {
            "text/plain": [
              "'DEGREES TEST'"
            ],
            "application/vnd.google.colaboratory.intrinsic+json": {
              "type": "string"
            }
          },
          "metadata": {}
        },
        {
          "output_type": "display_data",
          "data": {
            "text/plain": [
              "KstestResult(statistic=np.float64(0.9142309719002929), pvalue=np.float64(0.0), statistic_location=np.int32(20), statistic_sign=np.int8(1))"
            ]
          },
          "metadata": {}
        },
        {
          "output_type": "display_data",
          "data": {
            "text/plain": [
              "'INDEGREES TEST'"
            ],
            "application/vnd.google.colaboratory.intrinsic+json": {
              "type": "string"
            }
          },
          "metadata": {}
        },
        {
          "output_type": "display_data",
          "data": {
            "text/plain": [
              "KstestResult(statistic=np.float64(0.8949506453036866), pvalue=np.float64(0.0), statistic_location=np.int32(8), statistic_sign=np.int8(1))"
            ]
          },
          "metadata": {}
        },
        {
          "output_type": "display_data",
          "data": {
            "text/plain": [
              "'OUTDEGREES TEST'"
            ],
            "application/vnd.google.colaboratory.intrinsic+json": {
              "type": "string"
            }
          },
          "metadata": {}
        },
        {
          "output_type": "display_data",
          "data": {
            "text/plain": [
              "KstestResult(statistic=np.float64(0.9075471507892616), pvalue=np.float64(0.0), statistic_location=np.int32(8), statistic_sign=np.int8(1))"
            ]
          },
          "metadata": {}
        },
        {
          "output_type": "stream",
          "name": "stdout",
          "text": [
            "Statistics log created successfully.\n",
            "Output file: result_13wtl_classical games.txt\n"
          ]
        },
        {
          "output_type": "display_data",
          "data": {
            "text/plain": [
              "'DEGREES TEST'"
            ],
            "application/vnd.google.colaboratory.intrinsic+json": {
              "type": "string"
            }
          },
          "metadata": {}
        },
        {
          "output_type": "display_data",
          "data": {
            "text/plain": [
              "KstestResult(statistic=np.float64(0.7575382013705558), pvalue=np.float64(0.0), statistic_location=np.int32(13), statistic_sign=np.int8(1))"
            ]
          },
          "metadata": {}
        },
        {
          "output_type": "display_data",
          "data": {
            "text/plain": [
              "'INDEGREES TEST'"
            ],
            "application/vnd.google.colaboratory.intrinsic+json": {
              "type": "string"
            }
          },
          "metadata": {}
        },
        {
          "output_type": "display_data",
          "data": {
            "text/plain": [
              "KstestResult(statistic=np.float64(0.7161902761780463), pvalue=np.float64(0.0), statistic_location=np.int32(5), statistic_sign=np.int8(1))"
            ]
          },
          "metadata": {}
        },
        {
          "output_type": "display_data",
          "data": {
            "text/plain": [
              "'OUTDEGREES TEST'"
            ],
            "application/vnd.google.colaboratory.intrinsic+json": {
              "type": "string"
            }
          },
          "metadata": {}
        },
        {
          "output_type": "display_data",
          "data": {
            "text/plain": [
              "KstestResult(statistic=np.float64(0.7310216455400943), pvalue=np.float64(0.0), statistic_location=np.int32(5), statistic_sign=np.int8(1))"
            ]
          },
          "metadata": {}
        },
        {
          "output_type": "stream",
          "name": "stdout",
          "text": [
            "Statistics log created successfully.\n",
            "Output file: result_13wtl_correspondence games.txt\n"
          ]
        },
        {
          "output_type": "display_data",
          "data": {
            "text/plain": [
              "'DEGREES TEST'"
            ],
            "application/vnd.google.colaboratory.intrinsic+json": {
              "type": "string"
            }
          },
          "metadata": {}
        },
        {
          "output_type": "display_data",
          "data": {
            "text/plain": [
              "KstestResult(statistic=np.float64(0.9684603330861864), pvalue=np.float64(0.0), statistic_location=np.int32(0), statistic_sign=np.int8(1))"
            ]
          },
          "metadata": {}
        },
        {
          "output_type": "display_data",
          "data": {
            "text/plain": [
              "'INDEGREES TEST'"
            ],
            "application/vnd.google.colaboratory.intrinsic+json": {
              "type": "string"
            }
          },
          "metadata": {}
        },
        {
          "output_type": "display_data",
          "data": {
            "text/plain": [
              "KstestResult(statistic=np.float64(0.8931416460553507), pvalue=np.float64(0.0), statistic_location=np.int32(0), statistic_sign=np.int8(1))"
            ]
          },
          "metadata": {}
        },
        {
          "output_type": "display_data",
          "data": {
            "text/plain": [
              "'OUTDEGREES TEST'"
            ],
            "application/vnd.google.colaboratory.intrinsic+json": {
              "type": "string"
            }
          },
          "metadata": {}
        },
        {
          "output_type": "display_data",
          "data": {
            "text/plain": [
              "KstestResult(statistic=np.float64(0.8900941044056149), pvalue=np.float64(0.0), statistic_location=np.int32(0), statistic_sign=np.int8(1))"
            ]
          },
          "metadata": {}
        },
        {
          "output_type": "stream",
          "name": "stdout",
          "text": [
            "Statistics log created successfully.\n",
            "Output file: result_13wtl_blitz games.txt\n"
          ]
        },
        {
          "output_type": "display_data",
          "data": {
            "text/plain": [
              "'DEGREES TEST'"
            ],
            "application/vnd.google.colaboratory.intrinsic+json": {
              "type": "string"
            }
          },
          "metadata": {}
        },
        {
          "output_type": "display_data",
          "data": {
            "text/plain": [
              "KstestResult(statistic=np.float64(0.8029429001450639), pvalue=np.float64(0.0), statistic_location=np.int32(16), statistic_sign=np.int8(1))"
            ]
          },
          "metadata": {}
        },
        {
          "output_type": "display_data",
          "data": {
            "text/plain": [
              "'INDEGREES TEST'"
            ],
            "application/vnd.google.colaboratory.intrinsic+json": {
              "type": "string"
            }
          },
          "metadata": {}
        },
        {
          "output_type": "display_data",
          "data": {
            "text/plain": [
              "KstestResult(statistic=np.float64(0.7611216858746019), pvalue=np.float64(0.0), statistic_location=np.int32(6), statistic_sign=np.int8(1))"
            ]
          },
          "metadata": {}
        },
        {
          "output_type": "display_data",
          "data": {
            "text/plain": [
              "'OUTDEGREES TEST'"
            ],
            "application/vnd.google.colaboratory.intrinsic+json": {
              "type": "string"
            }
          },
          "metadata": {}
        },
        {
          "output_type": "display_data",
          "data": {
            "text/plain": [
              "KstestResult(statistic=np.float64(0.77879742744307), pvalue=np.float64(0.0), statistic_location=np.int32(6), statistic_sign=np.int8(1))"
            ]
          },
          "metadata": {}
        }
      ],
      "source": [
        "#run for the original graph and every subgraph\n",
        "for g,gametitle in [(gX,'all games'),(gB,'bullet games'),(gC,'classical games'),(gN,'correspondence games'),(gZ,'blitz games')]:\n",
        "\n",
        "  #set the target directory here\n",
        "  output_directory = 'result_13wtl_'+gametitle\n",
        "\n",
        "  if not os.path.exists(output_directory):\n",
        "      os.makedirs(output_directory)\n",
        "\n",
        "  degrees = g.degree_property_map(\"total\")\n",
        "  min_degree = min(degrees)\n",
        "  max_degree = max(degrees)\n",
        "\n",
        "  indegree = g.degree_property_map(\"in\")\n",
        "  min_indegree = min(indegree)\n",
        "  max_indegree = max(indegree)\n",
        "\n",
        "  outdegree = g.degree_property_map(\"out\")\n",
        "  min_outdegree = min(outdegree)\n",
        "  max_outdegree = max(outdegree)\n",
        "\n",
        "  mean_degree = 2 * g.num_edges() / g.num_vertices()\n",
        "  mean_indegree = g.num_edges() / g.num_vertices()\n",
        "  density = mean_degree / (g.num_vertices() - 1)\n",
        "\n",
        "  global_clustering_coefficient = gt.global_clustering(g)\n",
        "  reciprocity = gt.edge_reciprocity(g)\n",
        "\n",
        "  with open(f'{output_directory}/log.txt', 'w') as f:\n",
        "      print(f'Graph located at: {graphml_file}',file=f)\n",
        "      print(f'starting time: {datetime.time()}',file=f)\n",
        "      print('==========================',file=f)\n",
        "      print(f'Number of vertices: {g.num_vertices()}', file=f)\n",
        "      print(f'Number of edges: {g.num_edges()}', file=f)\n",
        "      print(f'Min degree: {min_degree}', file=f)\n",
        "      print(f'Max degree: {max_degree}', file=f)\n",
        "      print(f'Mean degree: {mean_degree}', file=f)\n",
        "      print(f'Min indegree: {min_indegree}', file=f)\n",
        "      print(f'Max indegree: {max_indegree}', file=f)\n",
        "      print(f'Min outdegree: {min_outdegree}', file=f)\n",
        "      print(f'Max outdegree: {max_outdegree}', file=f)\n",
        "      print(f'Mean indegree = Mean outdegree: {mean_indegree}', file=f)\n",
        "      print(f'Density: {density}', file=f)\n",
        "      print(f'Global clustering coefficient: {global_clustering_coefficient}', file=f)\n",
        "      print(f'Reciprocity: {reciprocity}', file=f)\n",
        "      print('==========================', file=f)\n",
        "      print(f'ending time: {datetime.time()}',file=f)\n",
        "\n",
        "      print('Statistics log created successfully.')\n",
        "      print(f'Output file: {output_directory}.txt')\n",
        "\n",
        "  edge_chance = g.num_edges()/(g.num_vertices()*(g.num_vertices()-1))\n",
        "\n",
        "  # The following code is for plotting the degree distribution of the graph\n",
        "  degree_distribution = g.degree_property_map(\"total\")\n",
        "  fig = plt.figure(figsize=(10, 6))\n",
        "  plt.hist(degree_distribution.a, bins=50, color='blue', alpha=0.7,density=True)\n",
        "  x = np.array(range(min(degree_distribution.a),max(degree_distribution.a)+1))\n",
        "  plt.plot(x, stats.binom(2*(g.num_vertices()-1),edge_chance).pmf(x), 'r-', label='Expected degree density for Erdős–Rényi random graph')\n",
        "  plt.title(f'Degree Distribution ({gametitle})')\n",
        "  plt.xlabel('Degree')\n",
        "  plt.ylabel('Frequency')\n",
        "  plt.grid()\n",
        "  #plt.yscale('log')\n",
        "  fig.legend()\n",
        "  fig.savefig(f'{output_directory}/degree_distribution {gametitle}.png')\n",
        "  plt.close()\n",
        "  display(\"DEGREES TEST\")\n",
        "  display(stats.kstest(degree_distribution.a, \"binom\", args=(2*(g.num_vertices()-1),edge_chance)))\n",
        "  # The following code is for plotting the indegree distribution of the graph\n",
        "  indegree_distribution = g.degree_property_map(\"in\")\n",
        "  fig = plt.figure(figsize=(10, 6))\n",
        "  plt.hist(indegree_distribution.a, bins=50, color='green', alpha=0.7,density=True)\n",
        "  x = np.array(range(min(indegree_distribution.a),max(indegree_distribution.a)+1))\n",
        "  plt.plot(x, stats.binom(g.num_vertices()-1,edge_chance).pmf(x), 'r-', label='Expected indegree density for Erdős–Rényi random graph')\n",
        "  plt.title(f'Indegree Distribution ({gametitle})')\n",
        "  plt.xlabel('Indegree')\n",
        "  plt.ylabel('Frequency')\n",
        "  plt.grid()\n",
        "  #plt.yscale('log')\n",
        "  fig.legend()\n",
        "  plt.savefig(f'{output_directory}/indegree_distribution {gametitle}.png')\n",
        "  plt.close()\n",
        "  display(\"INDEGREES TEST\")\n",
        "  display(stats.kstest(indegree_distribution.a, \"binom\", args=(g.num_vertices()-1,edge_chance)))\n",
        "  # The following code is for plotting the outdegree distribution of the graph\n",
        "  outdegree_distribution = g.degree_property_map(\"out\")\n",
        "  fig = plt.figure(figsize=(10, 6))\n",
        "  plt.hist(outdegree_distribution.a, bins=50, color='red', alpha=0.7,density=True)\n",
        "  x = np.array(range(min(outdegree_distribution.a),max(outdegree_distribution.a)+1))\n",
        "  plt.plot(x, stats.binom(g.num_vertices()-1,edge_chance).pmf(x), 'r-', label='Expected outdegree density for Erdős–Rényi random graph')\n",
        "  plt.title(f'Outdegree Distribution ({gametitle})')\n",
        "  plt.xlabel('Outdegree')\n",
        "  plt.ylabel('Frequency')\n",
        "  plt.grid()\n",
        "  #plt.yscale('log')\n",
        "  fig.legend()\n",
        "  plt.savefig(f'{output_directory}/outdegree_distribution {gametitle}.png')\n",
        "  plt.close()\n",
        "  display(\"OUTDEGREES TEST\")\n",
        "  display(stats.kstest(outdegree_distribution.a, \"binom\", args=(g.num_vertices()-1,edge_chance)))\n",
        "\n",
        "\n",
        "  #reenable the rest of statistics if we know the expected distribution in a random graph\n",
        "\n",
        "  continue\n",
        "\n",
        "\n",
        "\n",
        "  # The following code is for plotting the clustering coefficient distribution of the graph\n",
        "  clustering_coefficient_distribution = gt.local_clustering(g)\n",
        "  plt.figure(figsize=(10, 6))\n",
        "  plt.hist(clustering_coefficient_distribution.a, bins=50, color='purple', alpha=0.7)\n",
        "  plt.title('Clustering Coefficient Distribution')\n",
        "  plt.xlabel('Clustering Coefficient')\n",
        "  plt.ylabel('Frequency')\n",
        "  plt.grid()\n",
        "  plt.yscale('log')\n",
        "  plt.savefig(f'{output_directory}/clustering_coefficient_distribution.png')\n",
        "  plt.close()\n",
        "  # # The following code is for plotting the reciprocity distribution of the graph\n",
        "  # reciprocity_distribution =\n",
        "  # plt.figure(figsize=(10, 6))\n",
        "  # plt.hist(reciprocity_distribution.a, bins=50, color='orange', alpha=0.7)\n",
        "  # plt.title('Reciprocity Distribution')\n",
        "  # plt.xlabel('Reciprocity')\n",
        "  # plt.ylabel('Frequency')\n",
        "  # plt.grid()\n",
        "  # plt.savefig(f'{output_directory}/reciprocity_distribution.png')\n",
        "  # plt.close()\n",
        "  # The following code is for plotting the betweenness centrality distribution of the graph\n",
        "  betweenness_centrality = gt.betweenness(g)\n",
        "  vertex_betweenness = betweenness_centrality[0]\n",
        "  edge_betweenness = betweenness_centrality[1]\n",
        "  plt.figure(figsize=(10, 6))\n",
        "  plt.hist(vertex_betweenness.a, bins=50, color='cyan', alpha=0.7)\n",
        "  plt.title('Vertex Betweenness Centrality Distribution')\n",
        "  plt.xlabel('Betweenness Centrality')\n",
        "  plt.ylabel('Frequency')\n",
        "  plt.grid()\n",
        "  plt.yscale('log')\n",
        "  plt.savefig(f'{output_directory}/vertex_betweenness_centrality_distribution.png')\n",
        "  plt.close()\n",
        "\n",
        "  plt.figure(figsize=(10, 6))\n",
        "  plt.hist(edge_betweenness.a, bins=50, color='cyan', alpha=0.7)\n",
        "  plt.title('Edge Betweenness Centrality Distribution')\n",
        "  plt.xlabel('Betweenness Centrality')\n",
        "  plt.ylabel('Frequency')\n",
        "  plt.grid()\n",
        "  plt.yscale('log')\n",
        "  plt.savefig(f'{output_directory}/edge_betweenness_centrality_distribution.png')\n",
        "  plt.close()\n",
        "  # The following code is for plotting the closeness centrality distribution of the graph\n",
        "  closeness_centrality = gt.closeness(g)\n",
        "  plt.figure(figsize=(10, 6))\n",
        "  plt.hist(closeness_centrality.a, bins=50, color='magenta', alpha=0.7)\n",
        "  plt.title('Closeness Centrality Distribution')\n",
        "  plt.xlabel('Closeness Centrality')\n",
        "  plt.ylabel('Frequency')\n",
        "  plt.grid()\n",
        "  plt.savefig(f'{output_directory}/closeness_centrality_distribution.png')\n",
        "  plt.close()\n",
        "  # The following code is for plotting the eigenvector centrality distribution of the graph\n",
        "  eigenvector_centrality = gt.eigenvector(g)[1]\n",
        "  plt.figure(figsize=(10, 6))\n",
        "  plt.hist(eigenvector_centrality.a, bins=50, color='brown', alpha=0.7)\n",
        "  plt.title('Eigenvector Centrality Distribution')\n",
        "  plt.xlabel('Eigenvector Centrality')\n",
        "  plt.ylabel('Frequency')\n",
        "  plt.grid()\n",
        "  plt.yscale('log')\n",
        "  plt.savefig(f'{output_directory}/eigenvector_centrality_distribution.png')\n",
        "  plt.close()\n",
        "  # The following code is for plotting the PageRank centrality distribution of the graph\n",
        "  pagerank_centrality = gt.pagerank(g)\n",
        "  plt.figure(figsize=(10, 6))\n",
        "  plt.hist(pagerank_centrality.a, bins=50, color='pink', alpha=0.7)\n",
        "  plt.title('PageRank Centrality Distribution')\n",
        "  plt.xlabel('PageRank Centrality')\n",
        "  plt.ylabel('Frequency')\n",
        "  plt.grid()\n",
        "  plt.yscale('log')\n",
        "  plt.savefig(f'{output_directory}/pagerank_centrality_distribution.png')\n",
        "  plt.close()\n",
        "\n"
      ]
    },
    {
      "cell_type": "code",
      "execution_count": 5,
      "metadata": {
        "id": "i6T25coZMric"
      },
      "outputs": [],
      "source": [
        "def power_law_linreg(vals,counts):\n",
        "  #gets an array of points, filters empty bins out\n",
        "  #then returns a powerlaw curve to approximate the distribution\n",
        "  fvals = vals[counts>0]\n",
        "  fcounts = counts[counts>0]\n",
        "  lvals = np.log(fvals)\n",
        "  lcounts = np.log(fcounts)\n",
        "  #weighted by count so that the curve mostly follows the taller bins, which represent more samples (and also tend to follow our desired curve more closely)\n",
        "  a,b = np.polyfit(lvals, lcounts, deg=1, w=fcounts)\n",
        "  #the resulting curve follows the function y = np.exp(b) * x^a\n",
        "  return (np.exp(b),a)\n",
        "\n",
        "def do_plot(values,color='blue'):\n",
        "  #because we display loglog, we ignore any non-positive samples\n",
        "  filtered_vals = values[values > 0]\n",
        "  #evenly spaced out bins on logarithmic scale\n",
        "  bin_locs = np.logspace(np.log10(min(filtered_vals)),np.log10(max(filtered_vals)))\n",
        "  #the histogram returns the counts in every bin\n",
        "  hist_result = plt.hist(values, bins=bin_locs, color=color, alpha=0.7)\n",
        "  counts = hist_result[0]\n",
        "  #draw the power law curve\n",
        "  coef = power_law_linreg(bin_locs[:-1],counts)\n",
        "  plt.plot(bin_locs,coef[0]*bin_locs**(coef[1]),'r')\n",
        "\n",
        "#run for the original graph and every subgraph\n",
        "for g,gametitle in [(gX,'all games'),(gB,'bullet games'),(gC,'classical games'),(gN,'correspondence games'),(gZ,'blitz games')]:\n",
        "\n",
        "  #set the target directory here\n",
        "  output_directory = 'result_13wtl_'+gametitle\n",
        "\n",
        "  if not os.path.exists(output_directory):\n",
        "      os.makedirs(output_directory)\n",
        "\n",
        "  # The following code is for plotting the degree distribution of the graph\n",
        "  degree_distribution = g.degree_property_map(\"total\")\n",
        "  plt.figure(figsize=(10, 6))\n",
        "  do_plot(degree_distribution.a,color='blue')\n",
        "  plt.title(f'Degree Distribution ({gametitle})')\n",
        "  plt.xlabel('Degree')\n",
        "  plt.ylabel('Frequency')\n",
        "  plt.grid()\n",
        "  plt.xscale('log')\n",
        "  plt.yscale('log')\n",
        "  plt.savefig(f'{output_directory}/degree_distribution_loglog {gametitle}.png')\n",
        "  plt.close()\n",
        "  # The following code is for plotting the indegree distribution of the graph\n",
        "  indegree_distribution = g.degree_property_map(\"in\")\n",
        "  plt.figure(figsize=(10, 6))\n",
        "  do_plot(indegree_distribution.a,color='green')\n",
        "  plt.title(f'Indegree Distribution ({gametitle})')\n",
        "  plt.xlabel('Indegree')\n",
        "  plt.ylabel('Frequency')\n",
        "  plt.grid()\n",
        "  plt.xscale('log')\n",
        "  plt.yscale('log')\n",
        "  plt.savefig(f'{output_directory}/indegree_distribution_loglog {gametitle}.png')\n",
        "  plt.close()\n",
        "  # The following code is for plotting the outdegree distribution of the graph\n",
        "  outdegree_distribution = g.degree_property_map(\"out\")\n",
        "  plt.figure(figsize=(10, 6))\n",
        "  do_plot(outdegree_distribution.a,color='red')\n",
        "  plt.title(f'Outdegree Distribution ({gametitle})')\n",
        "  plt.xlabel('Outdegree')\n",
        "  plt.ylabel('Frequency')\n",
        "  plt.grid()\n",
        "  plt.xscale('log')\n",
        "  plt.yscale('log')\n",
        "  plt.savefig(f'{output_directory}/outdegree_distribution_loglog {gametitle}.png')\n",
        "  plt.close()\n",
        "  # The following code is for plotting the PageRank centrality distribution of the graph\n",
        "  pagerank_centrality = gt.pagerank(g)\n",
        "  plt.figure(figsize=(10, 6))\n",
        "  do_plot(pagerank_centrality.a,color='pink')\n",
        "  plt.title('PageRank Centrality Distribution')\n",
        "  plt.xlabel('PageRank Centrality')\n",
        "  plt.ylabel('Frequency')\n",
        "  plt.grid()\n",
        "  plt.xscale('log')\n",
        "  plt.yscale('log')\n",
        "  plt.savefig(f'{output_directory}/pagerank_centrality_distribution_loglog {gametitle}.png')\n",
        "  plt.close()\n",
        "\n",
        "\n",
        "  #the following properties do not seem to follow power law, so rendering the curve is meaningless\n",
        "  continue\n",
        "\n",
        "  # The following code is for plotting the clustering coefficient distribution of the graph\n",
        "  clustering_coefficient_distribution = gt.local_clustering(g)\n",
        "  plt.figure(figsize=(10, 6))\n",
        "  do_plot(clustering_coefficient_distribution.a,color='purple')\n",
        "  plt.title('Clustering Coefficient Distribution')\n",
        "  plt.xlabel('Clustering Coefficient')\n",
        "  plt.ylabel('Frequency')\n",
        "  plt.grid()\n",
        "  plt.xscale('log')\n",
        "  plt.yscale('log')\n",
        "  plt.savefig(f'{output_directory}/clustering_coefficient_distribution_loglog {gametitle}.png')\n",
        "  plt.close()\n",
        "  # # The following code is for plotting the reciprocity distribution of the graph\n",
        "  # reciprocity_distribution =\n",
        "  # plt.figure(figsize=(10, 6))\n",
        "  # plt.hist(reciprocity_distribution.a, bins=50, color='orange', alpha=0.7)\n",
        "  # plt.title('Reciprocity Distribution')\n",
        "  # plt.xlabel('Reciprocity')\n",
        "  # plt.ylabel('Frequency')\n",
        "  # plt.grid()\n",
        "  # plt.savefig(f'{output_directory}/reciprocity_distribution.png')\n",
        "  # plt.close()\n",
        "  # The following code is for plotting the betweenness centrality distribution of the graph\n",
        "  betweenness_centrality = gt.betweenness(g)\n",
        "  vertex_betweenness = betweenness_centrality[0]\n",
        "  edge_betweenness = betweenness_centrality[1]\n",
        "  plt.figure(figsize=(10, 6))\n",
        "  do_plot(vertex_betweenness.a,color='cyan')\n",
        "  plt.title('Vertex Betweenness Centrality Distribution')\n",
        "  plt.xlabel('Betweenness Centrality')\n",
        "  plt.ylabel('Frequency')\n",
        "  plt.grid()\n",
        "  plt.xscale('log')\n",
        "  plt.yscale('log')\n",
        "  plt.savefig(f'{output_directory}/vertex_betweenness_centrality_distribution_loglog {gametitle}.png')\n",
        "  plt.close()\n",
        "\n",
        "  plt.figure(figsize=(10, 6))\n",
        "  do_plot(edge_betweenness.a,color='cyan')\n",
        "  plt.title('Edge Betweenness Centrality Distribution')\n",
        "  plt.xlabel('Betweenness Centrality')\n",
        "  plt.ylabel('Frequency')\n",
        "  plt.grid()\n",
        "  plt.xscale('log')\n",
        "  plt.yscale('log')\n",
        "  plt.savefig(f'{output_directory}/edge_betweenness_centrality_distribution_loglog {gametitle}.png')\n",
        "  plt.close()\n",
        "  # The following code is for plotting the closeness centrality distribution of the graph\n",
        "  closeness_centrality = gt.closeness(g)\n",
        "  plt.figure(figsize=(10, 6))\n",
        "  do_plot(closeness_centrality.a,color='magenta')\n",
        "  plt.title('Closeness Centrality Distribution')\n",
        "  plt.xlabel('Closeness Centrality')\n",
        "  plt.ylabel('Frequency')\n",
        "  plt.grid()\n",
        "  plt.xscale('log')\n",
        "  plt.yscale('log')\n",
        "  plt.savefig(f'{output_directory}/closeness_centrality_distribution_loglog {gametitle}.png')\n",
        "  plt.close()\n",
        "  # The following code is for plotting the eigenvector centrality distribution of the graph\n",
        "  eigenvector_centrality = gt.eigenvector(g)[1]\n",
        "  plt.figure(figsize=(10, 6))\n",
        "  do_plot(eigenvector_centrality.a,color='brown')\n",
        "  plt.title('Eigenvector Centrality Distribution')\n",
        "  plt.xlabel('Eigenvector Centrality')\n",
        "  plt.ylabel('Frequency')\n",
        "  plt.grid()\n",
        "  plt.xscale('log')\n",
        "  plt.yscale('log')\n",
        "  plt.savefig(f'{output_directory}/eigenvector_centrality_distribution_loglog {gametitle}.png')\n",
        "  plt.close()\n",
        "\n"
      ]
    }
  ],
  "metadata": {
    "colab": {
      "provenance": []
    },
    "kernelspec": {
      "display_name": "Python 3",
      "name": "python3"
    },
    "language_info": {
      "name": "python"
    }
  },
  "nbformat": 4,
  "nbformat_minor": 0
}